{
 "cells": [
  {
   "cell_type": "markdown",
   "id": "6ec6477e",
   "metadata": {},
   "source": [
    "# Basic Realtime Voice Activity Detection (VAD)\n",
    "Implements a simple test of running Silero VAD in realtime from the console."
   ]
  },
  {
   "cell_type": "code",
   "execution_count": 1,
   "id": "bb14f373",
   "metadata": {},
   "outputs": [],
   "source": [
    "# TODO: Streaming audio from microphone with pyaudio"
   ]
  }
 ],
 "metadata": {
  "kernelspec": {
   "display_name": "realtime-chat",
   "language": "python",
   "name": "python3"
  },
  "language_info": {
   "codemirror_mode": {
    "name": "ipython",
    "version": 3
   },
   "file_extension": ".py",
   "mimetype": "text/x-python",
   "name": "python",
   "nbconvert_exporter": "python",
   "pygments_lexer": "ipython3",
   "version": "3.11.11"
  }
 },
 "nbformat": 4,
 "nbformat_minor": 5
}
