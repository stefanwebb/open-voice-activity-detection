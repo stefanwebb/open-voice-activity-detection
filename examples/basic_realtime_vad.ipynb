{
 "cells": [
  {
   "cell_type": "markdown",
   "id": "cbffd153",
   "metadata": {},
   "source": [
    "© 2025, Stefan Webb. Some Rights Reserved.\n",
    "\n",
    "Except where otherwise noted, this work is licensed under a\n",
    "[Creative Commons Attribution-ShareAlike 4.0 International (CC BY-SA 4.0)](https://creativecommons.org/licenses/by-sa/4.0/deed.en)"
   ]
  },
  {
   "cell_type": "code",
   "execution_count": 6,
   "id": "a1977b9b",
   "metadata": {},
   "outputs": [],
   "source": [
    "import open_vad\n",
    "from open_vad import SileroVAD\n",
    "from open_vad.utils import get_speech_timestamps, read_audio, save_audio\n",
    "from pprint import pprint\n",
    "import torch"
   ]
  },
  {
   "cell_type": "markdown",
   "id": "fa3df8fe",
   "metadata": {},
   "source": [
    "## Load Models"
   ]
  },
  {
   "cell_type": "code",
   "execution_count": 8,
   "id": "53411923",
   "metadata": {},
   "outputs": [
    {
     "data": {
      "text/plain": [
       "RecursiveScriptModule(\n",
       "  original_name=VADRNNJITMerge\n",
       "  (_model): RecursiveScriptModule(\n",
       "    original_name=VADRNNJIT\n",
       "    (stft): RecursiveScriptModule(\n",
       "      original_name=STFT\n",
       "      (padding): RecursiveScriptModule(original_name=ReflectionPad1d)\n",
       "    )\n",
       "    (encoder): RecursiveScriptModule(\n",
       "      original_name=Sequential\n",
       "      (0): RecursiveScriptModule(\n",
       "        original_name=SileroVadBlock\n",
       "        (se): RecursiveScriptModule(original_name=Identity)\n",
       "        (activation): RecursiveScriptModule(original_name=ReLU)\n",
       "        (reparam_conv): RecursiveScriptModule(original_name=Conv1d)\n",
       "      )\n",
       "      (1): RecursiveScriptModule(\n",
       "        original_name=SileroVadBlock\n",
       "        (se): RecursiveScriptModule(original_name=Identity)\n",
       "        (activation): RecursiveScriptModule(original_name=ReLU)\n",
       "        (reparam_conv): RecursiveScriptModule(original_name=Conv1d)\n",
       "      )\n",
       "      (2): RecursiveScriptModule(\n",
       "        original_name=SileroVadBlock\n",
       "        (se): RecursiveScriptModule(original_name=Identity)\n",
       "        (activation): RecursiveScriptModule(original_name=ReLU)\n",
       "        (reparam_conv): RecursiveScriptModule(original_name=Conv1d)\n",
       "      )\n",
       "      (3): RecursiveScriptModule(\n",
       "        original_name=SileroVadBlock\n",
       "        (se): RecursiveScriptModule(original_name=Identity)\n",
       "        (activation): RecursiveScriptModule(original_name=ReLU)\n",
       "        (reparam_conv): RecursiveScriptModule(original_name=Conv1d)\n",
       "      )\n",
       "    )\n",
       "    (decoder): RecursiveScriptModule(\n",
       "      original_name=VADDecoderRNNJIT\n",
       "      (rnn): RecursiveScriptModule(original_name=LSTMCell)\n",
       "      (decoder): RecursiveScriptModule(\n",
       "        original_name=Sequential\n",
       "        (0): RecursiveScriptModule(original_name=Dropout)\n",
       "        (1): RecursiveScriptModule(original_name=ReLU)\n",
       "        (2): RecursiveScriptModule(original_name=Conv1d)\n",
       "        (3): RecursiveScriptModule(original_name=Sigmoid)\n",
       "      )\n",
       "    )\n",
       "  )\n",
       "  (_model_8k): RecursiveScriptModule(\n",
       "    original_name=VADRNNJIT\n",
       "    (stft): RecursiveScriptModule(\n",
       "      original_name=STFT\n",
       "      (padding): RecursiveScriptModule(original_name=ReflectionPad1d)\n",
       "    )\n",
       "    (encoder): RecursiveScriptModule(\n",
       "      original_name=Sequential\n",
       "      (0): RecursiveScriptModule(\n",
       "        original_name=SileroVadBlock\n",
       "        (se): RecursiveScriptModule(original_name=Identity)\n",
       "        (activation): RecursiveScriptModule(original_name=ReLU)\n",
       "        (reparam_conv): RecursiveScriptModule(original_name=Conv1d)\n",
       "      )\n",
       "      (1): RecursiveScriptModule(\n",
       "        original_name=SileroVadBlock\n",
       "        (se): RecursiveScriptModule(original_name=Identity)\n",
       "        (activation): RecursiveScriptModule(original_name=ReLU)\n",
       "        (reparam_conv): RecursiveScriptModule(original_name=Conv1d)\n",
       "      )\n",
       "      (2): RecursiveScriptModule(\n",
       "        original_name=SileroVadBlock\n",
       "        (se): RecursiveScriptModule(original_name=Identity)\n",
       "        (activation): RecursiveScriptModule(original_name=ReLU)\n",
       "        (reparam_conv): RecursiveScriptModule(original_name=Conv1d)\n",
       "      )\n",
       "      (3): RecursiveScriptModule(\n",
       "        original_name=SileroVadBlock\n",
       "        (se): RecursiveScriptModule(original_name=Identity)\n",
       "        (activation): RecursiveScriptModule(original_name=ReLU)\n",
       "        (reparam_conv): RecursiveScriptModule(original_name=Conv1d)\n",
       "      )\n",
       "    )\n",
       "    (decoder): RecursiveScriptModule(\n",
       "      original_name=VADDecoderRNNJIT\n",
       "      (rnn): RecursiveScriptModule(original_name=LSTMCell)\n",
       "      (decoder): RecursiveScriptModule(\n",
       "        original_name=Sequential\n",
       "        (0): RecursiveScriptModule(original_name=Dropout)\n",
       "        (1): RecursiveScriptModule(original_name=ReLU)\n",
       "        (2): RecursiveScriptModule(original_name=Conv1d)\n",
       "        (3): RecursiveScriptModule(original_name=Sigmoid)\n",
       "      )\n",
       "    )\n",
       "  )\n",
       ")"
      ]
     },
     "execution_count": 8,
     "metadata": {},
     "output_type": "execute_result"
    }
   ],
   "source": [
    "# Precompiled model\n",
    "jit_model = torch.jit.load(\"../models/silero_vad.jit\")\n",
    "jit_model.eval()"
   ]
  },
  {
   "cell_type": "code",
   "execution_count": 9,
   "id": "c32f5f71",
   "metadata": {},
   "outputs": [
    {
     "data": {
      "text/plain": [
       "<All keys matched successfully>"
      ]
     },
     "execution_count": 9,
     "metadata": {},
     "output_type": "execute_result"
    }
   ],
   "source": [
    "# Loading weights from precompiled model into our PyTorch model code\n",
    "model = SileroVAD()\n",
    "model.eval()\n",
    "\n",
    "state_dict = jit_model.state_dict()\n",
    "state_dict = {k.removeprefix(\"_model.\"): v for k,v in state_dict.items() if not k.startswith('_model_8k')}\n",
    "model.load_state_dict(state_dict)"
   ]
  },
  {
   "cell_type": "markdown",
   "id": "6ec6477e",
   "metadata": {},
   "source": [
    "# Basic Realtime Voice Activity Detection (VAD)\n",
    "Implements a simple test of running Silero VAD in realtime from the console."
   ]
  },
  {
   "cell_type": "markdown",
   "id": "f79ff87d",
   "metadata": {},
   "source": [
    "## Test offline inference"
   ]
  },
  {
   "cell_type": "code",
   "execution_count": 3,
   "id": "56c0ece2",
   "metadata": {},
   "outputs": [
    {
     "name": "stderr",
     "output_type": "stream",
     "text": [
      "100%|██████████| 1.83M/1.83M [00:01<00:00, 1.69MB/s]\n"
     ]
    }
   ],
   "source": [
    "torch.hub.download_url_to_file('https://models.silero.ai/vad_models/en.wav', 'en_example.wav')"
   ]
  },
  {
   "cell_type": "code",
   "execution_count": 10,
   "id": "3c54fd1d",
   "metadata": {},
   "outputs": [],
   "source": [
    "sampling_rate = 16000\n",
    "wav = read_audio('en_example.wav', sampling_rate=sampling_rate)"
   ]
  },
  {
   "cell_type": "code",
   "execution_count": 11,
   "id": "fd88d5dc",
   "metadata": {},
   "outputs": [
    {
     "data": {
      "text/plain": [
       "(torch.Size([960000]), 60.0)"
      ]
     },
     "execution_count": 11,
     "metadata": {},
     "output_type": "execute_result"
    }
   ],
   "source": [
    "wav.shape, wav.numel() / 16000"
   ]
  },
  {
   "cell_type": "code",
   "execution_count": 13,
   "id": "09022fa6",
   "metadata": {},
   "outputs": [
    {
     "name": "stdout",
     "output_type": "stream",
     "text": [
      "[{'end': 33248, 'start': 32},\n",
      " {'end': 77792, 'start': 42528},\n",
      " {'end': 109536, 'start': 79392},\n",
      " {'end': 214496, 'start': 149024},\n",
      " {'end': 243168, 'start': 216608},\n",
      " {'end': 253408, 'start': 245280},\n",
      " {'end': 286688, 'start': 260640},\n",
      " {'end': 313824, 'start': 293920},\n",
      " {'end': 602080, 'start': 325152},\n",
      " {'end': 622048, 'start': 607264},\n",
      " {'end': 693216, 'start': 638496},\n",
      " {'end': 713184, 'start': 697888},\n",
      " {'end': 749536, 'start': 720416},\n",
      " {'end': 799200, 'start': 781344},\n",
      " {'end': 855008, 'start': 817184},\n",
      " {'end': 960000, 'start': 856608}]\n"
     ]
    }
   ],
   "source": [
    "speech_timestamps = get_speech_timestamps(wav,jit_model, sampling_rate=sampling_rate)\n",
    "pprint(speech_timestamps)"
   ]
  },
  {
   "cell_type": "code",
   "execution_count": null,
   "id": "9eedb5db",
   "metadata": {},
   "outputs": [],
   "source": [
    "# TODO: Debug the following, suspect a simple reshape is required\n",
    "speech_timestamps = get_speech_timestamps(wav,jit_model, sampling_rate=sampling_rate)\n",
    "pprint(speech_timestamps)"
   ]
  },
  {
   "cell_type": "markdown",
   "id": "1763d159",
   "metadata": {},
   "source": [
    "## Test online inference"
   ]
  },
  {
   "cell_type": "code",
   "execution_count": 1,
   "id": "bb14f373",
   "metadata": {},
   "outputs": [],
   "source": [
    "# TODO: Streaming audio from microphone with pyaudio"
   ]
  }
 ],
 "metadata": {
  "kernelspec": {
   "display_name": "realtime-chat",
   "language": "python",
   "name": "python3"
  },
  "language_info": {
   "codemirror_mode": {
    "name": "ipython",
    "version": 3
   },
   "file_extension": ".py",
   "mimetype": "text/x-python",
   "name": "python",
   "nbconvert_exporter": "python",
   "pygments_lexer": "ipython3",
   "version": "3.11.11"
  }
 },
 "nbformat": 4,
 "nbformat_minor": 5
}
