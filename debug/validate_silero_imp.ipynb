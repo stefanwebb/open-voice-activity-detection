{
 "cells": [
  {
   "cell_type": "markdown",
   "id": "13e1b3b5",
   "metadata": {},
   "source": [
    "© 2025, Stefan Webb. Some Rights Reserved.\n",
    "\n",
    "Except where otherwise noted, this work is licensed under a\n",
    "[Creative Commons Attribution-ShareAlike 4.0 International (CC BY-SA 4.0)](https://creativecommons.org/licenses/by-sa/4.0/deed.en)"
   ]
  },
  {
   "cell_type": "markdown",
   "id": "496b281f",
   "metadata": {},
   "source": [
    "# Validating Silero VAD Implementation\n",
    "We can validate our implementation by loading the pre-trained weights into the PyTorch `nn.Module` and comparing the output to the saved `jit.RecursiveScriptModule`.\n",
    "\n",
    "The purpose of this notebook is to help me develop the tests for the modules making up our implementation."
   ]
  },
  {
   "cell_type": "code",
   "execution_count": 1,
   "id": "535f63fa",
   "metadata": {},
   "outputs": [],
   "source": [
    "import torch\n",
    "import open_vad\n",
    "from open_vad import SileroVAD\n",
    "from open_vad.utils import count_parameters"
   ]
  },
  {
   "cell_type": "markdown",
   "id": "056726f5",
   "metadata": {},
   "source": [
    "## Create a model from our implementation and load the pretrained JIT version"
   ]
  },
  {
   "cell_type": "code",
   "execution_count": 18,
   "id": "0585ab36",
   "metadata": {},
   "outputs": [
    {
     "name": "stdout",
     "output_type": "stream",
     "text": [
      "309633\n"
     ]
    }
   ],
   "source": [
    "model = SileroVAD()\n",
    "model.eval()\n",
    "print(count_parameters(model))"
   ]
  },
  {
   "cell_type": "code",
   "execution_count": 3,
   "id": "516d0c6c",
   "metadata": {},
   "outputs": [
    {
     "name": "stdout",
     "output_type": "stream",
     "text": [
      "--2025-05-27 23:57:19--  https://github.com/snakers4/silero-vad/raw/refs/heads/master/src/silero_vad/data/silero_vad.jit\n",
      "Resolving github.com (github.com)... 140.82.116.3\n",
      "Connecting to github.com (github.com)|140.82.116.3|:443... connected.\n",
      "HTTP request sent, awaiting response... 302 Found\n",
      "Location: https://raw.githubusercontent.com/snakers4/silero-vad/refs/heads/master/src/silero_vad/data/silero_vad.jit [following]\n",
      "--2025-05-27 23:57:20--  https://raw.githubusercontent.com/snakers4/silero-vad/refs/heads/master/src/silero_vad/data/silero_vad.jit\n",
      "Resolving raw.githubusercontent.com (raw.githubusercontent.com)... 2606:50c0:8000::154, 2606:50c0:8002::154, 2606:50c0:8003::154, ...\n",
      "Connecting to raw.githubusercontent.com (raw.githubusercontent.com)|2606:50c0:8000::154|:443... connected.\n",
      "HTTP request sent, awaiting response... 200 OK\n",
      "Length: 2269612 (2.2M) [application/octet-stream]\n",
      "Saving to: ‘../models/silero_vad.jit.2’\n",
      "\n",
      "silero_vad.jit.2    100%[===================>]   2.16M  --.-KB/s    in 0.1s    \n",
      "\n",
      "2025-05-27 23:57:20 (20.4 MB/s) - ‘../models/silero_vad.jit.2’ saved [2269612/2269612]\n",
      "\n"
     ]
    }
   ],
   "source": [
    "!wget -P ../models/ https://github.com/snakers4/silero-vad/raw/refs/heads/master/src/silero_vad/data/silero_vad.jit"
   ]
  },
  {
   "cell_type": "code",
   "execution_count": 3,
   "id": "626e3d57",
   "metadata": {},
   "outputs": [
    {
     "name": "stdout",
     "output_type": "stream",
     "text": [
      "545282\n"
     ]
    }
   ],
   "source": [
    "jit_model = torch.jit.load(\"../models/silero_vad.jit\")\n",
    "jit_model.eval()\n",
    "print(count_parameters(jit_model))"
   ]
  },
  {
   "cell_type": "markdown",
   "id": "a6717681",
   "metadata": {},
   "source": [
    "As we will see, the difference in parameters count is because JIT includes models for both 16k and 8k sampling rates."
   ]
  },
  {
   "cell_type": "markdown",
   "id": "6c0f4964",
   "metadata": {},
   "source": [
    "## Compare the parameter/buffer names and sizes"
   ]
  },
  {
   "cell_type": "code",
   "execution_count": 4,
   "id": "9a46a9e6",
   "metadata": {},
   "outputs": [
    {
     "name": "stdout",
     "output_type": "stream",
     "text": [
      "encoder.0.reparam_conv.weight 49536\n",
      "encoder.0.reparam_conv.bias 128\n",
      "encoder.1.reparam_conv.weight 24576\n",
      "encoder.1.reparam_conv.bias 64\n",
      "encoder.2.reparam_conv.weight 12288\n",
      "encoder.2.reparam_conv.bias 64\n",
      "encoder.3.reparam_conv.weight 24576\n",
      "encoder.3.reparam_conv.bias 128\n",
      "decoder.rnn.weight_ih 65536\n",
      "decoder.rnn.weight_hh 65536\n",
      "decoder.rnn.bias_ih 512\n",
      "decoder.rnn.bias_hh 512\n",
      "decoder.decoder.2.weight 128\n",
      "decoder.decoder.2.bias 1\n"
     ]
    }
   ],
   "source": [
    "for n, v in model.named_parameters():\n",
    "    print(n, v.numel())"
   ]
  },
  {
   "cell_type": "code",
   "execution_count": 5,
   "id": "3b5c4064",
   "metadata": {},
   "outputs": [
    {
     "name": "stdout",
     "output_type": "stream",
     "text": [
      "_model.encoder.0.reparam_conv.weight 49536\n",
      "_model.encoder.0.reparam_conv.bias 128\n",
      "_model.encoder.1.reparam_conv.weight 24576\n",
      "_model.encoder.1.reparam_conv.bias 64\n",
      "_model.encoder.2.reparam_conv.weight 12288\n",
      "_model.encoder.2.reparam_conv.bias 64\n",
      "_model.encoder.3.reparam_conv.weight 24576\n",
      "_model.encoder.3.reparam_conv.bias 128\n",
      "_model.decoder.rnn.weight_ih 65536\n",
      "_model.decoder.rnn.weight_hh 65536\n",
      "_model.decoder.rnn.bias_ih 512\n",
      "_model.decoder.rnn.bias_hh 512\n",
      "_model.decoder.decoder.2.weight 128\n",
      "_model.decoder.decoder.2.bias 1\n"
     ]
    }
   ],
   "source": [
    "for n, v in [(n, v) for (n, v) in jit_model.named_parameters() if not n.startswith(\"_model_8k\")]:\n",
    "    print(n, v.numel())"
   ]
  },
  {
   "cell_type": "code",
   "execution_count": 6,
   "id": "84480844",
   "metadata": {},
   "outputs": [
    {
     "name": "stdout",
     "output_type": "stream",
     "text": [
      "('_model.stft.forward_basis_buffer', tensor([[[ 0.0000e+00,  1.5059e-04,  6.0227e-04,  ...,  1.3548e-03,\n",
      "           6.0227e-04,  1.5059e-04]],\n",
      "\n",
      "        [[ 0.0000e+00,  1.5055e-04,  6.0155e-04,  ...,  1.3511e-03,\n",
      "           6.0155e-04,  1.5055e-04]],\n",
      "\n",
      "        [[ 0.0000e+00,  1.5041e-04,  5.9937e-04,  ...,  1.3401e-03,\n",
      "           5.9937e-04,  1.5041e-04]],\n",
      "\n",
      "        ...,\n",
      "\n",
      "        [[ 0.0000e+00, -7.3891e-06,  5.9033e-05,  ...,  1.9879e-04,\n",
      "          -5.9033e-05,  7.3891e-06]],\n",
      "\n",
      "        [[ 0.0000e+00, -3.6957e-06,  2.9552e-05,  ...,  9.9663e-05,\n",
      "          -2.9552e-05,  3.6957e-06]],\n",
      "\n",
      "        [[ 0.0000e+00,  0.0000e+00,  0.0000e+00,  ...,  0.0000e+00,\n",
      "           0.0000e+00,  0.0000e+00]]]))\n",
      "('_model_8k.stft.forward_basis_buffer', tensor([[[ 0.0000e+00,  6.0227e-04,  2.4076e-03,  ...,  5.4117e-03,\n",
      "           2.4076e-03,  6.0227e-04]],\n",
      "\n",
      "        [[ 0.0000e+00,  6.0155e-04,  2.3960e-03,  ...,  5.3532e-03,\n",
      "           2.3960e-03,  6.0155e-04]],\n",
      "\n",
      "        [[ 0.0000e+00,  5.9937e-04,  2.3614e-03,  ...,  5.1787e-03,\n",
      "           2.3614e-03,  5.9937e-04]],\n",
      "\n",
      "        ...,\n",
      "\n",
      "        [[ 0.0000e+00, -5.9033e-05,  4.6971e-04,  ...,  1.5709e-03,\n",
      "          -4.6971e-04,  5.9033e-05]],\n",
      "\n",
      "        [[ 0.0000e+00, -2.9552e-05,  2.3599e-04,  ...,  7.9407e-04,\n",
      "          -2.3599e-04,  2.9552e-05]],\n",
      "\n",
      "        [[ 0.0000e+00,  0.0000e+00,  0.0000e+00,  ...,  0.0000e+00,\n",
      "           0.0000e+00,  0.0000e+00]]]))\n"
     ]
    }
   ],
   "source": [
    "for x in jit_model.named_buffers():\n",
    "    print(x)"
   ]
  },
  {
   "cell_type": "code",
   "execution_count": 7,
   "id": "85edc444",
   "metadata": {},
   "outputs": [
    {
     "name": "stdout",
     "output_type": "stream",
     "text": [
      "_model.stft.forward_basis_buffer 66048 torch.Size([258, 1, 256])\n"
     ]
    }
   ],
   "source": [
    "print(\"_model.stft.forward_basis_buffer\", list(jit_model.named_buffers())[0][1].numel(), list(jit_model.named_buffers())[0][1].shape)"
   ]
  },
  {
   "cell_type": "code",
   "execution_count": 8,
   "id": "f75ff1ec",
   "metadata": {},
   "outputs": [
    {
     "name": "stdout",
     "output_type": "stream",
     "text": [
      "stft.forward_basis_buffer 66048 torch.Size([258, 1, 256])\n"
     ]
    }
   ],
   "source": [
    "print(\"stft.forward_basis_buffer\", list(model.named_buffers())[0][1].numel(), list(model.named_buffers())[0][1].shape)"
   ]
  },
  {
   "cell_type": "code",
   "execution_count": 10,
   "id": "dae79566",
   "metadata": {},
   "outputs": [
    {
     "data": {
      "text/plain": [
       "[('stft.forward_basis_buffer',\n",
       "  tensor([[[0., 0., 0.,  ..., 0., 0., 0.]],\n",
       "  \n",
       "          [[0., 0., 0.,  ..., 0., 0., 0.]],\n",
       "  \n",
       "          [[0., 0., 0.,  ..., 0., 0., 0.]],\n",
       "  \n",
       "          ...,\n",
       "  \n",
       "          [[0., 0., 0.,  ..., 0., 0., 0.]],\n",
       "  \n",
       "          [[0., 0., 0.,  ..., 0., 0., 0.]],\n",
       "  \n",
       "          [[0., 0., 0.,  ..., 0., 0., 0.]]]))]"
      ]
     },
     "execution_count": 10,
     "metadata": {},
     "output_type": "execute_result"
    }
   ],
   "source": [
    "list(model.named_buffers())"
   ]
  },
  {
   "cell_type": "markdown",
   "id": "e8c4053d",
   "metadata": {},
   "source": [
    "Looks like we have got matching parameters and buffers."
   ]
  },
  {
   "cell_type": "markdown",
   "id": "5afe3059",
   "metadata": {},
   "source": [
    "## Load pre-trained weights into our implementation"
   ]
  },
  {
   "cell_type": "code",
   "execution_count": 19,
   "id": "d1c15ace",
   "metadata": {},
   "outputs": [],
   "source": [
    "state_dict = jit_model.state_dict()\n",
    "state_dict = {k.removeprefix(\"_model.\"): v for k,v in state_dict.items() if not k.startswith('_model_8k')}"
   ]
  },
  {
   "cell_type": "code",
   "execution_count": 20,
   "id": "30986047",
   "metadata": {},
   "outputs": [
    {
     "data": {
      "text/plain": [
       "<All keys matched successfully>"
      ]
     },
     "execution_count": 20,
     "metadata": {},
     "output_type": "execute_result"
    }
   ],
   "source": [
    "model.load_state_dict(state_dict)"
   ]
  },
  {
   "cell_type": "code",
   "execution_count": 21,
   "id": "8b0d59fa",
   "metadata": {},
   "outputs": [
    {
     "data": {
      "text/plain": [
       "tensor([[[ 0.0000e+00,  1.5059e-04,  6.0227e-04,  ...,  1.3548e-03,\n",
       "           6.0227e-04,  1.5059e-04]],\n",
       "\n",
       "        [[ 0.0000e+00,  1.5055e-04,  6.0155e-04,  ...,  1.3511e-03,\n",
       "           6.0155e-04,  1.5055e-04]],\n",
       "\n",
       "        [[ 0.0000e+00,  1.5041e-04,  5.9937e-04,  ...,  1.3401e-03,\n",
       "           5.9937e-04,  1.5041e-04]],\n",
       "\n",
       "        ...,\n",
       "\n",
       "        [[ 0.0000e+00, -7.3891e-06,  5.9033e-05,  ...,  1.9879e-04,\n",
       "          -5.9033e-05,  7.3891e-06]],\n",
       "\n",
       "        [[ 0.0000e+00, -3.6957e-06,  2.9552e-05,  ...,  9.9663e-05,\n",
       "          -2.9552e-05,  3.6957e-06]],\n",
       "\n",
       "        [[ 0.0000e+00,  0.0000e+00,  0.0000e+00,  ...,  0.0000e+00,\n",
       "           0.0000e+00,  0.0000e+00]]])"
      ]
     },
     "execution_count": 21,
     "metadata": {},
     "output_type": "execute_result"
    }
   ],
   "source": [
    "model.stft.forward_basis_buffer"
   ]
  },
  {
   "cell_type": "code",
   "execution_count": 22,
   "id": "10edeff2",
   "metadata": {},
   "outputs": [
    {
     "data": {
      "text/plain": [
       "tensor([[[ 0.0000e+00,  1.5059e-04,  6.0227e-04,  ...,  1.3548e-03,\n",
       "           6.0227e-04,  1.5059e-04]],\n",
       "\n",
       "        [[ 0.0000e+00,  1.5055e-04,  6.0155e-04,  ...,  1.3511e-03,\n",
       "           6.0155e-04,  1.5055e-04]],\n",
       "\n",
       "        [[ 0.0000e+00,  1.5041e-04,  5.9937e-04,  ...,  1.3401e-03,\n",
       "           5.9937e-04,  1.5041e-04]],\n",
       "\n",
       "        ...,\n",
       "\n",
       "        [[ 0.0000e+00, -7.3891e-06,  5.9033e-05,  ...,  1.9879e-04,\n",
       "          -5.9033e-05,  7.3891e-06]],\n",
       "\n",
       "        [[ 0.0000e+00, -3.6957e-06,  2.9552e-05,  ...,  9.9663e-05,\n",
       "          -2.9552e-05,  3.6957e-06]],\n",
       "\n",
       "        [[ 0.0000e+00,  0.0000e+00,  0.0000e+00,  ...,  0.0000e+00,\n",
       "           0.0000e+00,  0.0000e+00]]])"
      ]
     },
     "execution_count": 22,
     "metadata": {},
     "output_type": "execute_result"
    }
   ],
   "source": [
    "list(jit_model.named_buffers())[0][1]"
   ]
  },
  {
   "cell_type": "markdown",
   "id": "283978fc",
   "metadata": {},
   "source": [
    "## Compare outputs"
   ]
  },
  {
   "cell_type": "code",
   "execution_count": 26,
   "id": "989edcaa",
   "metadata": {},
   "outputs": [
    {
     "name": "stdout",
     "output_type": "stream",
     "text": [
      "True\n",
      "True\n",
      "True\n",
      "True\n",
      "True\n",
      "True\n",
      "True\n",
      "True\n",
      "True\n",
      "True\n"
     ]
    }
   ],
   "source": [
    "model.reset_states()\n",
    "jit_model.reset_states()\n",
    "\n",
    "for i in range(10):\n",
    "    # Perform forward pass\n",
    "    input_tensor = torch.randn(1, 512)  # Sample input (batch_size=10, feature_dim=256)\n",
    "    output = model(input_tensor, 16000)\n",
    "    jit_output = jit_model(input_tensor, 16000)\n",
    "\n",
    "    print(torch.allclose(output, jit_output))"
   ]
  }
 ],
 "metadata": {
  "kernelspec": {
   "display_name": "realtime-chat",
   "language": "python",
   "name": "python3"
  },
  "language_info": {
   "codemirror_mode": {
    "name": "ipython",
    "version": 3
   },
   "file_extension": ".py",
   "mimetype": "text/x-python",
   "name": "python",
   "nbconvert_exporter": "python",
   "pygments_lexer": "ipython3",
   "version": "3.11.11"
  }
 },
 "nbformat": 4,
 "nbformat_minor": 5
}
