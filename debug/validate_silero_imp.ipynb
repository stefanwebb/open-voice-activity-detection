{
 "cells": [
  {
   "cell_type": "markdown",
   "id": "496b281f",
   "metadata": {},
   "source": [
    "# Validating Silero VAD Implementation\n",
    "We can validate our implementation by loading the pre-trained weights into the PyTorch `nn.Module` and comparing the output to the saved `jit.RecursiveScriptModule`.\n",
    "\n",
    "The purpose of this notebook is to help me develop the tests for the modules making up our implementation."
   ]
  },
  {
   "cell_type": "code",
   "execution_count": null,
   "id": "535f63fa",
   "metadata": {},
   "outputs": [],
   "source": []
  }
 ],
 "metadata": {
  "language_info": {
   "name": "python"
  }
 },
 "nbformat": 4,
 "nbformat_minor": 5
}
